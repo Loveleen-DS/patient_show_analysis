{
 "cells": [
  {
   "cell_type": "markdown",
   "id": "55e5fe44-525a-45fd-a46b-53f8417cfea5",
   "metadata": {},
   "source": [
    "# Understanding Patient Attendance: An Exploratory Data Analysis of Hospital Show/No-Show Patterns"
   ]
  },
  {
   "cell_type": "markdown",
   "id": "74d11d9e-4e7f-40a4-87e9-2e4a699c71f9",
   "metadata": {},
   "source": [
    "## Introduction  \n",
    "The success of healthcare services largely depends on patients attending their scheduled appointments. However, missed appointments (no-shows) are a common challenge faced by hospitals, leading to inefficiencies, increased costs, and potential risks to patient health. This exploratory data analysis (EDA) aims to uncover patterns and factors associated with patient attendance and no-shows in a hospital setting, using data of couple of months for the year 2016."
   ]
  },
  {
   "cell_type": "code",
   "execution_count": 1,
   "id": "a498d620-9418-4b4b-8d96-1c012f5e0993",
   "metadata": {},
   "outputs": [],
   "source": [
    "# import packages\n",
    "import numpy as np #For scientific computing\n",
    "import pandas as pd #For data manipulation \n",
    "import matplotlib.pyplot as plt #For data visualization \n",
    "import seaborn as sns #For more advamced data visualization "
   ]
  },
  {
   "cell_type": "markdown",
   "id": "00b56a25-a322-4b48-9441-17dd0890b74d",
   "metadata": {},
   "source": [
    "## Data Overview\n",
    "The dataset includes patient information, appointment details, and whether the patient showed up for their appointment. The analysis begins with a thorough inspection of the data to understand its structure, check for missing values, and identify any potential data quality issues."
   ]
  },
  {
   "cell_type": "code",
   "execution_count": 2,
   "id": "6156103e-f243-4e7e-ab9c-1ad35c011e7f",
   "metadata": {},
   "outputs": [],
   "source": [
    "df = pd.read_csv(r\"C:/Users/lkaur/Downloads/hospital_ds/patient_ds_2016.csv\") #change this to the location of your file"
   ]
  },
  {
   "cell_type": "markdown",
   "id": "3fff6649-07f0-41a0-8fa7-2ce392d640f9",
   "metadata": {
    "jp-MarkdownHeadingCollapsed": true
   },
   "source": [
    "### Shape and Structure: \n",
    "We start by checking the shape of the dataset, the column names, and the data types.\n",
    "In the description we see age is negative, we will correct that in the following steps."
   ]
  },
  {
   "cell_type": "code",
   "execution_count": 3,
   "id": "b7e87228-b89e-4ba4-a880-bb62190ef207",
   "metadata": {},
   "outputs": [
    {
     "name": "stdout",
     "output_type": "stream",
     "text": [
      "*********Shape*********\n",
      "(110527, 14)\n",
      "*********Column names*********\n",
      "Index(['PatientId', 'AppointmentID', 'Gender', 'ScheduledDay',\n",
      "       'AppointmentDay', 'Age', 'Neighbourhood', 'Scholarship', 'Hipertension',\n",
      "       'Diabetes', 'Alcoholism', 'Handcap', 'SMS_received', 'No-show'],\n",
      "      dtype='object')\n",
      "*********Datatypes*********\n",
      "PatientId         float64\n",
      "AppointmentID       int64\n",
      "Gender             object\n",
      "ScheduledDay       object\n",
      "AppointmentDay     object\n",
      "Age                 int64\n",
      "Neighbourhood      object\n",
      "Scholarship         int64\n",
      "Hipertension        int64\n",
      "Diabetes            int64\n",
      "Alcoholism          int64\n",
      "Handcap             int64\n",
      "SMS_received        int64\n",
      "No-show            object\n",
      "dtype: object\n",
      "*********Head*********\n",
      "      PatientId  AppointmentID Gender          ScheduledDay  \\\n",
      "0  2.987250e+13        5642903      F  2016-04-29T18:38:08Z   \n",
      "1  5.589978e+14        5642503      M  2016-04-29T16:08:27Z   \n",
      "2  4.262962e+12        5642549      F  2016-04-29T16:19:04Z   \n",
      "3  8.679512e+11        5642828      F  2016-04-29T17:29:31Z   \n",
      "4  8.841186e+12        5642494      F  2016-04-29T16:07:23Z   \n",
      "\n",
      "         AppointmentDay  Age      Neighbourhood  Scholarship  Hipertension  \\\n",
      "0  2016-04-29T00:00:00Z   62    JARDIM DA PENHA            0             1   \n",
      "1  2016-04-29T00:00:00Z   56    JARDIM DA PENHA            0             0   \n",
      "2  2016-04-29T00:00:00Z   62      MATA DA PRAIA            0             0   \n",
      "3  2016-04-29T00:00:00Z    8  PONTAL DE CAMBURI            0             0   \n",
      "4  2016-04-29T00:00:00Z   56    JARDIM DA PENHA            0             1   \n",
      "\n",
      "   Diabetes  Alcoholism  Handcap  SMS_received No-show  \n",
      "0         0           0        0             0      No  \n",
      "1         0           0        0             0      No  \n",
      "2         0           0        0             0      No  \n",
      "3         0           0        0             0      No  \n",
      "4         1           0        0             0      No  \n",
      "*********Tail*********\n",
      "           PatientId  AppointmentID Gender          ScheduledDay  \\\n",
      "110522  2.572134e+12        5651768      F  2016-05-03T09:15:35Z   \n",
      "110523  3.596266e+12        5650093      F  2016-05-03T07:27:33Z   \n",
      "110524  1.557663e+13        5630692      F  2016-04-27T16:03:52Z   \n",
      "110525  9.213493e+13        5630323      F  2016-04-27T15:09:23Z   \n",
      "110526  3.775115e+14        5629448      F  2016-04-27T13:30:56Z   \n",
      "\n",
      "              AppointmentDay  Age Neighbourhood  Scholarship  Hipertension  \\\n",
      "110522  2016-06-07T00:00:00Z   56   MARIA ORTIZ            0             0   \n",
      "110523  2016-06-07T00:00:00Z   51   MARIA ORTIZ            0             0   \n",
      "110524  2016-06-07T00:00:00Z   21   MARIA ORTIZ            0             0   \n",
      "110525  2016-06-07T00:00:00Z   38   MARIA ORTIZ            0             0   \n",
      "110526  2016-06-07T00:00:00Z   54   MARIA ORTIZ            0             0   \n",
      "\n",
      "        Diabetes  Alcoholism  Handcap  SMS_received No-show  \n",
      "110522         0           0        0             1      No  \n",
      "110523         0           0        0             1      No  \n",
      "110524         0           0        0             1      No  \n",
      "110525         0           0        0             1      No  \n",
      "110526         0           0        0             1      No  \n",
      "*********Description*********\n",
      "          PatientId  AppointmentID            Age    Scholarship  \\\n",
      "count  1.105270e+05   1.105270e+05  110527.000000  110527.000000   \n",
      "mean   1.474963e+14   5.675305e+06      37.088874       0.098266   \n",
      "std    2.560949e+14   7.129575e+04      23.110205       0.297675   \n",
      "min    3.921784e+04   5.030230e+06      -1.000000       0.000000   \n",
      "25%    4.172614e+12   5.640286e+06      18.000000       0.000000   \n",
      "50%    3.173184e+13   5.680573e+06      37.000000       0.000000   \n",
      "75%    9.439172e+13   5.725524e+06      55.000000       0.000000   \n",
      "max    9.999816e+14   5.790484e+06     115.000000       1.000000   \n",
      "\n",
      "        Hipertension       Diabetes     Alcoholism        Handcap  \\\n",
      "count  110527.000000  110527.000000  110527.000000  110527.000000   \n",
      "mean        0.197246       0.071865       0.030400       0.022248   \n",
      "std         0.397921       0.258265       0.171686       0.161543   \n",
      "min         0.000000       0.000000       0.000000       0.000000   \n",
      "25%         0.000000       0.000000       0.000000       0.000000   \n",
      "50%         0.000000       0.000000       0.000000       0.000000   \n",
      "75%         0.000000       0.000000       0.000000       0.000000   \n",
      "max         1.000000       1.000000       1.000000       4.000000   \n",
      "\n",
      "        SMS_received  \n",
      "count  110527.000000  \n",
      "mean        0.321026  \n",
      "std         0.466873  \n",
      "min         0.000000  \n",
      "25%         0.000000  \n",
      "50%         0.000000  \n",
      "75%         1.000000  \n",
      "max         1.000000  \n"
     ]
    }
   ],
   "source": [
    "def check_df(dataframe):\n",
    "    print(\"*********Shape*********\")\n",
    "    print(dataframe.shape)\n",
    "    print(\"*********Column names*********\")\n",
    "    print(dataframe.columns)\n",
    "    print(\"*********Datatypes*********\")\n",
    "    print(dataframe.dtypes)\n",
    "    print(\"*********Head*********\")\n",
    "    print(dataframe.head())\n",
    "    print(\"*********Tail*********\")\n",
    "    print(dataframe.tail())\n",
    "    print(\"*********Description*********\")\n",
    "    print(dataframe.describe())\n",
    "\n",
    "\n",
    "check_df(df)"
   ]
  },
  {
   "cell_type": "markdown",
   "id": "ea5f5592-f30f-4e56-b294-523f46765fea",
   "metadata": {
    "jp-MarkdownHeadingCollapsed": true
   },
   "source": [
    "### Missing Values and Duplicates: \n",
    "We then assess the presence of missing values and duplicate records that could affect our analysis."
   ]
  },
  {
   "cell_type": "code",
   "execution_count": 4,
   "id": "540472fd-ffc8-47ca-a818-27233e103e7f",
   "metadata": {
    "scrolled": true
   },
   "outputs": [
    {
     "data": {
      "text/plain": [
       "PatientId         0\n",
       "AppointmentID     0\n",
       "Gender            0\n",
       "ScheduledDay      0\n",
       "AppointmentDay    0\n",
       "Age               0\n",
       "Neighbourhood     0\n",
       "Scholarship       0\n",
       "Hipertension      0\n",
       "Diabetes          0\n",
       "Alcoholism        0\n",
       "Handcap           0\n",
       "SMS_received      0\n",
       "No-show           0\n",
       "dtype: int64"
      ]
     },
     "execution_count": 4,
     "metadata": {},
     "output_type": "execute_result"
    }
   ],
   "source": [
    "df.isnull().sum()"
   ]
  },
  {
   "cell_type": "code",
   "execution_count": 5,
   "id": "2e5bf195-36f4-468a-aaea-fe41385bb620",
   "metadata": {},
   "outputs": [
    {
     "data": {
      "text/plain": [
       "0"
      ]
     },
     "execution_count": 5,
     "metadata": {},
     "output_type": "execute_result"
    }
   ],
   "source": [
    "df.duplicated().sum()"
   ]
  },
  {
   "cell_type": "markdown",
   "id": "83209843-0ed5-4e61-b4f8-49ee09d29d32",
   "metadata": {
    "jp-MarkdownHeadingCollapsed": true
   },
   "source": [
    "### Data Preparation: \n",
    "- Key columns like PatientId and AppointmentID are converted to string data types for proper identification.\n",
    "- Date columns are cleaned by removing time elements\n",
    "- New features such as Weekday are created to indicate if the appointment was on a weekday or weekend."
   ]
  },
  {
   "cell_type": "code",
   "execution_count": 6,
   "id": "7f64a262-723f-4a44-b9d7-a5126bb01859",
   "metadata": {},
   "outputs": [],
   "source": [
    "# Convert ID variables into objects\n",
    "df[[\"PatientId\", \"AppointmentID\"]] = df[[\"PatientId\", \"AppointmentID\"]].astype(str)\n",
    "# Deleting the time and keeping the date only\n",
    "for col in [\"AppointmentDay\", \"ScheduledDay\"]:\n",
    "    df[col] = df[col].apply(lambda x: x.split(\"T\")[0])\n",
    "# Converting date variables from object to datetime\n",
    "for col in [\"ScheduledDay\", \"AppointmentDay\"]:\n",
    "    df[col] = pd.to_datetime(df[col])\n",
    "# Add a new column to indicate if the appointment day is a weekday or weekend\n",
    "df['Weekday'] = df['AppointmentDay'].apply(lambda x: 0 if x.weekday() >= 5 else 1)"
   ]
  },
  {
   "cell_type": "markdown",
   "id": "2f7371a9-6a95-4470-8123-0655c65bdc89",
   "metadata": {
    "jp-MarkdownHeadingCollapsed": true
   },
   "source": [
    "### Data Cleaning\n",
    "To ensure the analysis is based on accurate data, several cleaning steps are taken:\n",
    "- Re-labeling the No-Show column and encoding it to a binary numerical column with 0 for No-Show and 1 for Show.\n",
    "- Re-labeling the Gender column and encoding it to a binary numerical column with 0 for Female and 1 for Male.\n",
    "- Age Corrections: A negative age value is identified, suggesting a data entry error, and is subsequently removed.\n",
    "- Wait Days: A crucial feature, Wait_days, is calculated as the difference between the appointment day and the scheduled day. Rows with unreasonable negative wait times are dropped to maintain data integrity."
   ]
  },
  {
   "cell_type": "code",
   "execution_count": 7,
   "id": "be3d701c-7647-4920-af61-2b000532872b",
   "metadata": {},
   "outputs": [],
   "source": [
    "#Cleaning the No show column\n",
    "df.rename(columns = {\"No-show\": \"Show\"}, inplace = True)\n",
    "#encoding it\n",
    "labels = {\"No\": 1, \"Yes\":0}\n",
    "df[\"Show\"] = df[\"Show\"].map(labels)\n",
    "#converting it into integer\n",
    "df[\"Show\"] = df[\"Show\"].astype(int)\n",
    "\n",
    "#Cleaning the Gender column\n",
    "df.rename(columns = {\"Gender\": \"Male\"}, inplace = True)\n",
    "#encoding it\n",
    "labels = {\"M\": 1, \"F\":0}\n",
    "df[\"Male\"] = df[\"Male\"].map(labels)\n",
    "#converting it into integer\n",
    "df[\"Male\"] = df[\"Male\"].astype(int)"
   ]
  },
  {
   "cell_type": "code",
   "execution_count": 8,
   "id": "995a744d-238c-4939-8240-d53e624b027f",
   "metadata": {},
   "outputs": [],
   "source": [
    "#Removing those rows from dataframe where age is in negatice\n",
    "df=df[df[\"Age\"] >= 0]"
   ]
  },
  {
   "cell_type": "code",
   "execution_count": 9,
   "id": "8c814c26-625b-4862-b4a9-9a8876430ad1",
   "metadata": {},
   "outputs": [
    {
     "data": {
      "text/html": [
       "<div>\n",
       "<style scoped>\n",
       "    .dataframe tbody tr th:only-of-type {\n",
       "        vertical-align: middle;\n",
       "    }\n",
       "\n",
       "    .dataframe tbody tr th {\n",
       "        vertical-align: top;\n",
       "    }\n",
       "\n",
       "    .dataframe thead th {\n",
       "        text-align: right;\n",
       "    }\n",
       "</style>\n",
       "<table border=\"1\" class=\"dataframe\">\n",
       "  <thead>\n",
       "    <tr style=\"text-align: right;\">\n",
       "      <th></th>\n",
       "      <th>PatientId</th>\n",
       "      <th>AppointmentID</th>\n",
       "      <th>Male</th>\n",
       "      <th>ScheduledDay</th>\n",
       "      <th>AppointmentDay</th>\n",
       "      <th>Age</th>\n",
       "      <th>Neighbourhood</th>\n",
       "      <th>Scholarship</th>\n",
       "      <th>Hipertension</th>\n",
       "      <th>Diabetes</th>\n",
       "      <th>Alcoholism</th>\n",
       "      <th>Handcap</th>\n",
       "      <th>SMS_received</th>\n",
       "      <th>Show</th>\n",
       "      <th>Weekday</th>\n",
       "      <th>Age_bins</th>\n",
       "      <th>diabetic_hiper</th>\n",
       "      <th>Wait_days</th>\n",
       "    </tr>\n",
       "  </thead>\n",
       "  <tbody>\n",
       "  </tbody>\n",
       "</table>\n",
       "</div>"
      ],
      "text/plain": [
       "Empty DataFrame\n",
       "Columns: [PatientId, AppointmentID, Male, ScheduledDay, AppointmentDay, Age, Neighbourhood, Scholarship, Hipertension, Diabetes, Alcoholism, Handcap, SMS_received, Show, Weekday, Age_bins, diabetic_hiper, Wait_days]\n",
       "Index: []"
      ]
     },
     "execution_count": 9,
     "metadata": {},
     "output_type": "execute_result"
    }
   ],
   "source": [
    "#Creating Age bins and Wait days column\n",
    "df[\"Age_bins\"] = pd.qcut(df.Age, 5, labels = [\"0 - 12\", \"13 - 29\", \"30 - 44\", \"45 - 58\", \"59 - 115\"])\n",
    "df[\"diabetic_hiper\"] = df[\"Diabetes\"] * df[\"Hipertension\"]\n",
    "df[\"Wait_days\"] = df[\"AppointmentDay\"] - df[\"ScheduledDay\"]\n",
    "df[\"Wait_days\"] = df[\"Wait_days\"].astype(str)\n",
    "df[\"Wait_days\"] = df[\"Wait_days\"].apply(lambda x: x.split(\" \")[0])\n",
    "df[\"Wait_days\"] = df[\"Wait_days\"].astype(int)\n",
    "\n",
    "# Removing unreasonable wait days\n",
    "drop_index = df[df[\"Wait_days\"] < 0].index\n",
    "df.drop(drop_index, inplace = True)\n",
    "df[df[\"Wait_days\"] < 0]"
   ]
  },
  {
   "cell_type": "code",
   "execution_count": 10,
   "id": "1b10582c-18b9-46cf-a463-3fd514417e57",
   "metadata": {},
   "outputs": [],
   "source": [
    "#Converting wait days into wait bins\n",
    "df[\"Wait_days\"] = pd.cut(df[\"Wait_days\"], 10, labels = [\"0-17\", \"18-34\", \"35-53\", \"54-71\", \"72-89\", \"90-106\", \"107-124\", \"125-142\", \"143-160\", \"161-179\"])"
   ]
  },
  {
   "cell_type": "markdown",
   "id": "92825cf0-4f3d-4d27-a02c-86b097687f9f",
   "metadata": {
    "jp-MarkdownHeadingCollapsed": true
   },
   "source": [
    "### Describing the dataset to understand the numerical values"
   ]
  },
  {
   "cell_type": "code",
   "execution_count": 45,
   "id": "db8a0908-78ee-4df1-b5bf-c47ebc7d2653",
   "metadata": {},
   "outputs": [
    {
     "data": {
      "text/html": [
       "<div>\n",
       "<style scoped>\n",
       "    .dataframe tbody tr th:only-of-type {\n",
       "        vertical-align: middle;\n",
       "    }\n",
       "\n",
       "    .dataframe tbody tr th {\n",
       "        vertical-align: top;\n",
       "    }\n",
       "\n",
       "    .dataframe thead th {\n",
       "        text-align: right;\n",
       "    }\n",
       "</style>\n",
       "<table border=\"1\" class=\"dataframe\">\n",
       "  <thead>\n",
       "    <tr style=\"text-align: right;\">\n",
       "      <th></th>\n",
       "      <th>Male</th>\n",
       "      <th>ScheduledDay</th>\n",
       "      <th>AppointmentDay</th>\n",
       "      <th>Age</th>\n",
       "      <th>Scholarship</th>\n",
       "      <th>Hipertension</th>\n",
       "      <th>Diabetes</th>\n",
       "      <th>Alcoholism</th>\n",
       "      <th>Handcap</th>\n",
       "      <th>SMS_received</th>\n",
       "      <th>Show</th>\n",
       "      <th>Weekday</th>\n",
       "      <th>diabetic_hiper</th>\n",
       "    </tr>\n",
       "  </thead>\n",
       "  <tbody>\n",
       "    <tr>\n",
       "      <th>count</th>\n",
       "      <td>110521.000000</td>\n",
       "      <td>110521</td>\n",
       "      <td>110521</td>\n",
       "      <td>110521.000000</td>\n",
       "      <td>110521.000000</td>\n",
       "      <td>110521.000000</td>\n",
       "      <td>110521.000000</td>\n",
       "      <td>110521.000000</td>\n",
       "      <td>110521.000000</td>\n",
       "      <td>110521.000000</td>\n",
       "      <td>110521.000000</td>\n",
       "      <td>110521.000000</td>\n",
       "      <td>110521.000000</td>\n",
       "    </tr>\n",
       "    <tr>\n",
       "      <th>mean</th>\n",
       "      <td>0.350024</td>\n",
       "      <td>2016-05-08 20:32:53.272047872</td>\n",
       "      <td>2016-05-19 00:58:20.684937472</td>\n",
       "      <td>37.089386</td>\n",
       "      <td>0.098271</td>\n",
       "      <td>0.197257</td>\n",
       "      <td>0.071869</td>\n",
       "      <td>0.030401</td>\n",
       "      <td>0.022231</td>\n",
       "      <td>0.321043</td>\n",
       "      <td>0.798102</td>\n",
       "      <td>0.999647</td>\n",
       "      <td>0.058686</td>\n",
       "    </tr>\n",
       "    <tr>\n",
       "      <th>min</th>\n",
       "      <td>0.000000</td>\n",
       "      <td>2015-11-10 00:00:00</td>\n",
       "      <td>2016-04-29 00:00:00</td>\n",
       "      <td>0.000000</td>\n",
       "      <td>0.000000</td>\n",
       "      <td>0.000000</td>\n",
       "      <td>0.000000</td>\n",
       "      <td>0.000000</td>\n",
       "      <td>0.000000</td>\n",
       "      <td>0.000000</td>\n",
       "      <td>0.000000</td>\n",
       "      <td>0.000000</td>\n",
       "      <td>0.000000</td>\n",
       "    </tr>\n",
       "    <tr>\n",
       "      <th>25%</th>\n",
       "      <td>0.000000</td>\n",
       "      <td>2016-04-29 00:00:00</td>\n",
       "      <td>2016-05-09 00:00:00</td>\n",
       "      <td>18.000000</td>\n",
       "      <td>0.000000</td>\n",
       "      <td>0.000000</td>\n",
       "      <td>0.000000</td>\n",
       "      <td>0.000000</td>\n",
       "      <td>0.000000</td>\n",
       "      <td>0.000000</td>\n",
       "      <td>1.000000</td>\n",
       "      <td>1.000000</td>\n",
       "      <td>0.000000</td>\n",
       "    </tr>\n",
       "    <tr>\n",
       "      <th>50%</th>\n",
       "      <td>0.000000</td>\n",
       "      <td>2016-05-10 00:00:00</td>\n",
       "      <td>2016-05-18 00:00:00</td>\n",
       "      <td>37.000000</td>\n",
       "      <td>0.000000</td>\n",
       "      <td>0.000000</td>\n",
       "      <td>0.000000</td>\n",
       "      <td>0.000000</td>\n",
       "      <td>0.000000</td>\n",
       "      <td>0.000000</td>\n",
       "      <td>1.000000</td>\n",
       "      <td>1.000000</td>\n",
       "      <td>0.000000</td>\n",
       "    </tr>\n",
       "    <tr>\n",
       "      <th>75%</th>\n",
       "      <td>1.000000</td>\n",
       "      <td>2016-05-20 00:00:00</td>\n",
       "      <td>2016-05-31 00:00:00</td>\n",
       "      <td>55.000000</td>\n",
       "      <td>0.000000</td>\n",
       "      <td>0.000000</td>\n",
       "      <td>0.000000</td>\n",
       "      <td>0.000000</td>\n",
       "      <td>0.000000</td>\n",
       "      <td>1.000000</td>\n",
       "      <td>1.000000</td>\n",
       "      <td>1.000000</td>\n",
       "      <td>0.000000</td>\n",
       "    </tr>\n",
       "    <tr>\n",
       "      <th>max</th>\n",
       "      <td>1.000000</td>\n",
       "      <td>2016-06-08 00:00:00</td>\n",
       "      <td>2016-06-08 00:00:00</td>\n",
       "      <td>115.000000</td>\n",
       "      <td>1.000000</td>\n",
       "      <td>1.000000</td>\n",
       "      <td>1.000000</td>\n",
       "      <td>1.000000</td>\n",
       "      <td>4.000000</td>\n",
       "      <td>1.000000</td>\n",
       "      <td>1.000000</td>\n",
       "      <td>1.000000</td>\n",
       "      <td>1.000000</td>\n",
       "    </tr>\n",
       "    <tr>\n",
       "      <th>std</th>\n",
       "      <td>0.476979</td>\n",
       "      <td>NaN</td>\n",
       "      <td>NaN</td>\n",
       "      <td>23.109885</td>\n",
       "      <td>0.297682</td>\n",
       "      <td>0.397929</td>\n",
       "      <td>0.258272</td>\n",
       "      <td>0.171690</td>\n",
       "      <td>0.161494</td>\n",
       "      <td>0.466879</td>\n",
       "      <td>0.401419</td>\n",
       "      <td>0.018782</td>\n",
       "      <td>0.235037</td>\n",
       "    </tr>\n",
       "  </tbody>\n",
       "</table>\n",
       "</div>"
      ],
      "text/plain": [
       "                Male                   ScheduledDay  \\\n",
       "count  110521.000000                         110521   \n",
       "mean        0.350024  2016-05-08 20:32:53.272047872   \n",
       "min         0.000000            2015-11-10 00:00:00   \n",
       "25%         0.000000            2016-04-29 00:00:00   \n",
       "50%         0.000000            2016-05-10 00:00:00   \n",
       "75%         1.000000            2016-05-20 00:00:00   \n",
       "max         1.000000            2016-06-08 00:00:00   \n",
       "std         0.476979                            NaN   \n",
       "\n",
       "                      AppointmentDay            Age    Scholarship  \\\n",
       "count                         110521  110521.000000  110521.000000   \n",
       "mean   2016-05-19 00:58:20.684937472      37.089386       0.098271   \n",
       "min              2016-04-29 00:00:00       0.000000       0.000000   \n",
       "25%              2016-05-09 00:00:00      18.000000       0.000000   \n",
       "50%              2016-05-18 00:00:00      37.000000       0.000000   \n",
       "75%              2016-05-31 00:00:00      55.000000       0.000000   \n",
       "max              2016-06-08 00:00:00     115.000000       1.000000   \n",
       "std                              NaN      23.109885       0.297682   \n",
       "\n",
       "        Hipertension       Diabetes     Alcoholism        Handcap  \\\n",
       "count  110521.000000  110521.000000  110521.000000  110521.000000   \n",
       "mean        0.197257       0.071869       0.030401       0.022231   \n",
       "min         0.000000       0.000000       0.000000       0.000000   \n",
       "25%         0.000000       0.000000       0.000000       0.000000   \n",
       "50%         0.000000       0.000000       0.000000       0.000000   \n",
       "75%         0.000000       0.000000       0.000000       0.000000   \n",
       "max         1.000000       1.000000       1.000000       4.000000   \n",
       "std         0.397929       0.258272       0.171690       0.161494   \n",
       "\n",
       "        SMS_received           Show        Weekday  diabetic_hiper  \n",
       "count  110521.000000  110521.000000  110521.000000   110521.000000  \n",
       "mean        0.321043       0.798102       0.999647        0.058686  \n",
       "min         0.000000       0.000000       0.000000        0.000000  \n",
       "25%         0.000000       1.000000       1.000000        0.000000  \n",
       "50%         0.000000       1.000000       1.000000        0.000000  \n",
       "75%         1.000000       1.000000       1.000000        0.000000  \n",
       "max         1.000000       1.000000       1.000000        1.000000  \n",
       "std         0.466879       0.401419       0.018782        0.235037  "
      ]
     },
     "execution_count": 45,
     "metadata": {},
     "output_type": "execute_result"
    }
   ],
   "source": [
    "df.describe()"
   ]
  },
  {
   "cell_type": "markdown",
   "id": "b40883e1-d57e-4f60-84c0-b1b844efb91d",
   "metadata": {},
   "source": [
    "**Findings**\n",
    "- Mean Age: The average age of patients is 37 years. This suggests that the patient population is relatively young to middle-aged, which might influence the types of medical conditions and the likelihood of showing up for appointments.\n",
    "- Gender Distribution: 35% of the patients are male. This indicates a higher proportion of female patients, which could be due to various factors such as health-seeking behavior or the type of services offered.\n",
    "- Scholarship Recipients: 9.8% of the patients have a scholarship. This might indicate a segment of the population that is economically disadvantaged and possibly receives financial aid for healthcare.\n",
    "- Hypertension: 19.7% of patients have high blood pressure. This is a significant portion, suggesting that hypertension is a common health issue in this patient population.\n",
    "- Diabetes: 7.2% of patients are diabetic. This figure is lower compared to hypertension but still notable, indicating that diabetes is another common condition.\n",
    "- Alcohol Consumption: Only 3% of patients consume alcohol, which could imply a generally health-conscious population or underreporting.\n",
    "- Handicap: 2.2% of patients are handicapped. This is a small percentage, indicating that most patients do not have physical disabilities.\n",
    "- Comorbidity (Diabetes & Hypertension): 5.9% of patients are both diabetic and hypertensive. This is a critical finding as it highlights a vulnerable group that may require more medical attention.\n",
    "- SMS Notification: 32.1% of patients received an SMS notification. This suggests that SMS reminders are used, but not for all patients. Understanding the impact of SMS reminders on the show-up rate could be valuable.\n",
    "- No Show-Up Rate: The overall Show up rate 80%. While relatively high, it still means that 20% of appointments are missed, which could be a significant issue for the hospital in terms of resource allocation and patient care continuity."
   ]
  },
  {
   "cell_type": "markdown",
   "id": "564a219f-654d-41fa-8a56-fdc311d2a11b",
   "metadata": {},
   "source": [
    "## Improving Show-Up Rates:\n",
    "\n",
    "Now lets explore why patients do not show up. We will analyze if factors like appointment day, patient demographics and health conditions, receiving an SMS etc affects the likelihood of showing up."
   ]
  },
  {
   "cell_type": "markdown",
   "id": "9ad438a1-28b5-42cc-a079-6e43a5df6331",
   "metadata": {},
   "source": [
    "### Correlation analysis between features"
   ]
  },
  {
   "cell_type": "code",
   "execution_count": 13,
   "id": "ec6de65a-8568-42fc-bf11-0caccaa79235",
   "metadata": {},
   "outputs": [
    {
     "name": "stdout",
     "output_type": "stream",
     "text": [
      "<class 'pandas.core.frame.DataFrame'>\n",
      "Index: 110521 entries, 0 to 110526\n",
      "Data columns (total 18 columns):\n",
      " #   Column          Non-Null Count   Dtype         \n",
      "---  ------          --------------   -----         \n",
      " 0   PatientId       110521 non-null  object        \n",
      " 1   AppointmentID   110521 non-null  object        \n",
      " 2   Male            110521 non-null  int32         \n",
      " 3   ScheduledDay    110521 non-null  datetime64[ns]\n",
      " 4   AppointmentDay  110521 non-null  datetime64[ns]\n",
      " 5   Age             110521 non-null  int64         \n",
      " 6   Neighbourhood   110521 non-null  object        \n",
      " 7   Scholarship     110521 non-null  int64         \n",
      " 8   Hipertension    110521 non-null  int64         \n",
      " 9   Diabetes        110521 non-null  int64         \n",
      " 10  Alcoholism      110521 non-null  int64         \n",
      " 11  Handcap         110521 non-null  int64         \n",
      " 12  SMS_received    110521 non-null  int64         \n",
      " 13  Show            110521 non-null  int32         \n",
      " 14  Weekday         110521 non-null  int64         \n",
      " 15  Age_bins        110521 non-null  category      \n",
      " 16  diabetic_hiper  110521 non-null  int64         \n",
      " 17  Wait_days       110521 non-null  category      \n",
      "dtypes: category(2), datetime64[ns](2), int32(2), int64(9), object(3)\n",
      "memory usage: 13.7+ MB\n"
     ]
    },
    {
     "data": {
      "image/png": "[encoded data removed]",
      "text/plain": [
       "<Figure size 800x400 with 2 Axes>"
      ]
     },
     "metadata": {},
     "output_type": "display_data"
    }
   ],
   "source": [
    "df.info()# Filter only integer columns\n",
    "df_numeric = df.select_dtypes(include=['int64', 'float64','int32'])\n",
    "\n",
    "# Compute the correlation matrix\n",
    "corr_matrix = df_numeric.corr()\n",
    "\n",
    "# Plot the heatmap\n",
    "plt.figure(figsize=(8, 4), dpi=100)\n",
    "sns.heatmap(corr_matrix, vmin=-1, vmax=1, cmap=\"viridis\", linewidths=0.01, annot=True)\n",
    "plt.title('Correlation Matrix of Numeric Variables')\n",
    "plt.show()"
   ]
  },
  {
   "cell_type": "markdown",
   "id": "24ed7b28-daea-4535-a922-5b4249b4bbee",
   "metadata": {},
   "source": [
    "**Findings**  \n",
    "Lack of Strong Correlation between the likelihood of a patient showing up for their appointment and any other individual feature in the dataset. This suggests that the decision to show up for an appointment may not be strongly influenced by any single demographic or health characteristic captured in the data.\n",
    "\n",
    "Mid-Level Positive Correlations:\n",
    "Between hypertension and age. This is expected, as hypertension is more prevalent among older individuals.\n",
    "Between diabetes and hypertension. This indicates that patients with one of these conditions are more likely to also have the other, which aligns with medical understanding that these conditions often coexist.\n",
    "\n",
    "Potential for Interaction Effects:\n",
    "While individual features do not show a strong correlation with the show-up rate, there may be interaction effects between multiple factors that together influence patient behavior. For instance, age combined with other socio-economic factors might have a more significant impact."
   ]
  },
  {
   "cell_type": "markdown",
   "id": "03768794-c39f-45ac-bc3b-b510286321f2",
   "metadata": {},
   "source": [
    "## Deep dive into combinations of features if they influence Patient Show-up"
   ]
  },
  {
   "cell_type": "markdown",
   "id": "03c8d8f5-0628-423c-9489-3d7edebccb8f",
   "metadata": {
    "jp-MarkdownHeadingCollapsed": true
   },
   "source": [
    "### Deep dive into role of Gender+other features influencing Patient Show-up"
   ]
  },
  {
   "cell_type": "code",
   "execution_count": 14,
   "id": "3d26878c-aa59-47b1-a834-cd3450b853fa",
   "metadata": {
    "scrolled": true
   },
   "outputs": [
    {
     "data": {
      "text/html": [
       "<div>\n",
       "<style scoped>\n",
       "    .dataframe tbody tr th:only-of-type {\n",
       "        vertical-align: middle;\n",
       "    }\n",
       "\n",
       "    .dataframe tbody tr th {\n",
       "        vertical-align: top;\n",
       "    }\n",
       "\n",
       "    .dataframe thead th {\n",
       "        text-align: right;\n",
       "    }\n",
       "</style>\n",
       "<table border=\"1\" class=\"dataframe\">\n",
       "  <thead>\n",
       "    <tr style=\"text-align: right;\">\n",
       "      <th></th>\n",
       "      <th></th>\n",
       "      <th>Show</th>\n",
       "    </tr>\n",
       "    <tr>\n",
       "      <th>Male</th>\n",
       "      <th>SMS_received</th>\n",
       "      <th></th>\n",
       "    </tr>\n",
       "  </thead>\n",
       "  <tbody>\n",
       "    <tr>\n",
       "      <th rowspan=\"2\" valign=\"top\">0</th>\n",
       "      <th>0</th>\n",
       "      <td>83.48</td>\n",
       "    </tr>\n",
       "    <tr>\n",
       "      <th>1</th>\n",
       "      <td>72.23</td>\n",
       "    </tr>\n",
       "    <tr>\n",
       "      <th rowspan=\"2\" valign=\"top\">1</th>\n",
       "      <th>0</th>\n",
       "      <td>83.00</td>\n",
       "    </tr>\n",
       "    <tr>\n",
       "      <th>1</th>\n",
       "      <td>72.84</td>\n",
       "    </tr>\n",
       "  </tbody>\n",
       "</table>\n",
       "</div>"
      ],
      "text/plain": [
       "                    Show\n",
       "Male SMS_received       \n",
       "0    0             83.48\n",
       "     1             72.23\n",
       "1    0             83.00\n",
       "     1             72.84"
      ]
     },
     "execution_count": 14,
     "metadata": {},
     "output_type": "execute_result"
    }
   ],
   "source": [
    "# Does Gender+SMS notification play a role in show up?\n",
    "male_sms_impact = pd.pivot_table(data = df, index = [\"Male\", \"SMS_received\"], values = \"Show\")\n",
    "round(male_sms_impact * 100, 2) "
   ]
  },
  {
   "cell_type": "code",
   "execution_count": 15,
   "id": "06692114-2298-409a-b70e-9bd93ece5d96",
   "metadata": {},
   "outputs": [
    {
     "data": {
      "text/html": [
       "<div>\n",
       "<style scoped>\n",
       "    .dataframe tbody tr th:only-of-type {\n",
       "        vertical-align: middle;\n",
       "    }\n",
       "\n",
       "    .dataframe tbody tr th {\n",
       "        vertical-align: top;\n",
       "    }\n",
       "\n",
       "    .dataframe thead th {\n",
       "        text-align: right;\n",
       "    }\n",
       "</style>\n",
       "<table border=\"1\" class=\"dataframe\">\n",
       "  <thead>\n",
       "    <tr style=\"text-align: right;\">\n",
       "      <th></th>\n",
       "      <th></th>\n",
       "      <th>Show</th>\n",
       "    </tr>\n",
       "    <tr>\n",
       "      <th>Male</th>\n",
       "      <th>Diabetes</th>\n",
       "      <th></th>\n",
       "    </tr>\n",
       "  </thead>\n",
       "  <tbody>\n",
       "    <tr>\n",
       "      <th rowspan=\"2\" valign=\"top\">0</th>\n",
       "      <th>0</th>\n",
       "      <td>79.50</td>\n",
       "    </tr>\n",
       "    <tr>\n",
       "      <th>1</th>\n",
       "      <td>81.86</td>\n",
       "    </tr>\n",
       "    <tr>\n",
       "      <th rowspan=\"2\" valign=\"top\">1</th>\n",
       "      <th>0</th>\n",
       "      <td>79.89</td>\n",
       "    </tr>\n",
       "    <tr>\n",
       "      <th>1</th>\n",
       "      <td>82.33</td>\n",
       "    </tr>\n",
       "  </tbody>\n",
       "</table>\n",
       "</div>"
      ],
      "text/plain": [
       "                Show\n",
       "Male Diabetes       \n",
       "0    0         79.50\n",
       "     1         81.86\n",
       "1    0         79.89\n",
       "     1         82.33"
      ]
     },
     "execution_count": 15,
     "metadata": {},
     "output_type": "execute_result"
    }
   ],
   "source": [
    "# Does Gender+Diabetes play a role in show up?\n",
    "male_diab_impact = pd.pivot_table(data = df, index = [\"Male\", \"Diabetes\"], values = \"Show\")\n",
    "round(male_diab_impact * 100, 2) "
   ]
  },
  {
   "cell_type": "code",
   "execution_count": 16,
   "id": "be72ed0e-8fef-468b-b2b5-962e9dd3e64a",
   "metadata": {},
   "outputs": [
    {
     "name": "stderr",
     "output_type": "stream",
     "text": [
      "C:\\Users\\lkaur\\AppData\\Local\\Temp\\ipykernel_16508\\4025644469.py:2: FutureWarning: The default value of observed=False is deprecated and will change to observed=True in a future version of pandas. Specify observed=False to silence this warning and retain the current behavior\n",
      "  male_diab_impact = pd.pivot_table(data = df, index = [\"Male\", \"Age_bins\"], values = \"Show\")\n"
     ]
    },
    {
     "data": {
      "text/html": [
       "<div>\n",
       "<style scoped>\n",
       "    .dataframe tbody tr th:only-of-type {\n",
       "        vertical-align: middle;\n",
       "    }\n",
       "\n",
       "    .dataframe tbody tr th {\n",
       "        vertical-align: top;\n",
       "    }\n",
       "\n",
       "    .dataframe thead th {\n",
       "        text-align: right;\n",
       "    }\n",
       "</style>\n",
       "<table border=\"1\" class=\"dataframe\">\n",
       "  <thead>\n",
       "    <tr style=\"text-align: right;\">\n",
       "      <th></th>\n",
       "      <th></th>\n",
       "      <th>Show</th>\n",
       "    </tr>\n",
       "    <tr>\n",
       "      <th>Male</th>\n",
       "      <th>Age_bins</th>\n",
       "      <th></th>\n",
       "    </tr>\n",
       "  </thead>\n",
       "  <tbody>\n",
       "    <tr>\n",
       "      <th rowspan=\"5\" valign=\"top\">0</th>\n",
       "      <th>0 - 12</th>\n",
       "      <td>79.05</td>\n",
       "    </tr>\n",
       "    <tr>\n",
       "      <th>13 - 29</th>\n",
       "      <td>75.06</td>\n",
       "    </tr>\n",
       "    <tr>\n",
       "      <th>30 - 44</th>\n",
       "      <td>78.65</td>\n",
       "    </tr>\n",
       "    <tr>\n",
       "      <th>45 - 58</th>\n",
       "      <td>82.00</td>\n",
       "    </tr>\n",
       "    <tr>\n",
       "      <th>59 - 115</th>\n",
       "      <td>84.33</td>\n",
       "    </tr>\n",
       "    <tr>\n",
       "      <th rowspan=\"5\" valign=\"top\">1</th>\n",
       "      <th>0 - 12</th>\n",
       "      <td>79.30</td>\n",
       "    </tr>\n",
       "    <tr>\n",
       "      <th>13 - 29</th>\n",
       "      <td>74.78</td>\n",
       "    </tr>\n",
       "    <tr>\n",
       "      <th>30 - 44</th>\n",
       "      <td>78.58</td>\n",
       "    </tr>\n",
       "    <tr>\n",
       "      <th>45 - 58</th>\n",
       "      <td>82.34</td>\n",
       "    </tr>\n",
       "    <tr>\n",
       "      <th>59 - 115</th>\n",
       "      <td>85.45</td>\n",
       "    </tr>\n",
       "  </tbody>\n",
       "</table>\n",
       "</div>"
      ],
      "text/plain": [
       "                Show\n",
       "Male Age_bins       \n",
       "0    0 - 12    79.05\n",
       "     13 - 29   75.06\n",
       "     30 - 44   78.65\n",
       "     45 - 58   82.00\n",
       "     59 - 115  84.33\n",
       "1    0 - 12    79.30\n",
       "     13 - 29   74.78\n",
       "     30 - 44   78.58\n",
       "     45 - 58   82.34\n",
       "     59 - 115  85.45"
      ]
     },
     "execution_count": 16,
     "metadata": {},
     "output_type": "execute_result"
    }
   ],
   "source": [
    "# Does Gender+Age play a role in show up?\n",
    "male_age_impact = pd.pivot_table(data = df, index = [\"Male\", \"Age_bins\"], values = \"Show\")\n",
    "round(male_age_impact * 100, 2) "
   ]
  },
  {
   "cell_type": "code",
   "execution_count": 17,
   "id": "8c0684df-13f4-4719-b5fc-4241a118d507",
   "metadata": {
    "scrolled": true
   },
   "outputs": [
    {
     "data": {
      "text/html": [
       "<div>\n",
       "<style scoped>\n",
       "    .dataframe tbody tr th:only-of-type {\n",
       "        vertical-align: middle;\n",
       "    }\n",
       "\n",
       "    .dataframe tbody tr th {\n",
       "        vertical-align: top;\n",
       "    }\n",
       "\n",
       "    .dataframe thead th {\n",
       "        text-align: right;\n",
       "    }\n",
       "</style>\n",
       "<table border=\"1\" class=\"dataframe\">\n",
       "  <thead>\n",
       "    <tr style=\"text-align: right;\">\n",
       "      <th></th>\n",
       "      <th></th>\n",
       "      <th>Show</th>\n",
       "    </tr>\n",
       "    <tr>\n",
       "      <th>Male</th>\n",
       "      <th>Scholarship</th>\n",
       "      <th></th>\n",
       "    </tr>\n",
       "  </thead>\n",
       "  <tbody>\n",
       "    <tr>\n",
       "      <th rowspan=\"2\" valign=\"top\">0</th>\n",
       "      <th>0</th>\n",
       "      <td>80.18</td>\n",
       "    </tr>\n",
       "    <tr>\n",
       "      <th>1</th>\n",
       "      <td>76.21</td>\n",
       "    </tr>\n",
       "    <tr>\n",
       "      <th rowspan=\"2\" valign=\"top\">1</th>\n",
       "      <th>0</th>\n",
       "      <td>80.23</td>\n",
       "    </tr>\n",
       "    <tr>\n",
       "      <th>1</th>\n",
       "      <td>76.49</td>\n",
       "    </tr>\n",
       "  </tbody>\n",
       "</table>\n",
       "</div>"
      ],
      "text/plain": [
       "                   Show\n",
       "Male Scholarship       \n",
       "0    0            80.18\n",
       "     1            76.21\n",
       "1    0            80.23\n",
       "     1            76.49"
      ]
     },
     "execution_count": 17,
     "metadata": {},
     "output_type": "execute_result"
    }
   ],
   "source": [
    "# Does Gender+Scholarship play a role in show up?\n",
    "male_diab_impact = pd.pivot_table(data = df, index = [\"Male\", \"Scholarship\"], values = \"Show\")\n",
    "round(male_diab_impact * 100, 2) "
   ]
  },
  {
   "cell_type": "markdown",
   "id": "895cdad9-3bb9-4b58-bf5c-c2c5f11854ce",
   "metadata": {},
   "source": [
    "**Overall Summary:**\n",
    "- Surprisingly, receiving an SMS reminder appears to have a negative impact on the likelihood of attending an appointment for both genders.\n",
    "- Diabetes and age (especially older age) are associated with higher show-up rates, suggesting that patients with these characteristics are more likely to attend their appointments regardless of gender.\n",
    "- Conversely, receiving a scholarship seems to be linked to lower show-up rates, which might indicate financial assistance does not necessarily translate into better attendance.\n",
    "- Across these factors, the gender differences in show-up rates are relatively minor, with males showing slightly higher rates in most scenarios."
   ]
  },
  {
   "cell_type": "markdown",
   "id": "63ffe811-92e3-4356-9649-e23b13cf10b7",
   "metadata": {
    "jp-MarkdownHeadingCollapsed": true
   },
   "source": [
    "### Deep dive into role of Scholarship +other features influencing Patient Show-up"
   ]
  },
  {
   "cell_type": "code",
   "execution_count": 18,
   "id": "459262c4-3211-40b5-9821-bbd9724c038f",
   "metadata": {},
   "outputs": [
    {
     "data": {
      "text/html": [
       "<div>\n",
       "<style scoped>\n",
       "    .dataframe tbody tr th:only-of-type {\n",
       "        vertical-align: middle;\n",
       "    }\n",
       "\n",
       "    .dataframe tbody tr th {\n",
       "        vertical-align: top;\n",
       "    }\n",
       "\n",
       "    .dataframe thead th {\n",
       "        text-align: right;\n",
       "    }\n",
       "</style>\n",
       "<table border=\"1\" class=\"dataframe\">\n",
       "  <thead>\n",
       "    <tr style=\"text-align: right;\">\n",
       "      <th></th>\n",
       "      <th>Show</th>\n",
       "    </tr>\n",
       "    <tr>\n",
       "      <th>Scholarship</th>\n",
       "      <th></th>\n",
       "    </tr>\n",
       "  </thead>\n",
       "  <tbody>\n",
       "    <tr>\n",
       "      <th>0</th>\n",
       "      <td>80.20</td>\n",
       "    </tr>\n",
       "    <tr>\n",
       "      <th>1</th>\n",
       "      <td>76.26</td>\n",
       "    </tr>\n",
       "  </tbody>\n",
       "</table>\n",
       "</div>"
      ],
      "text/plain": [
       "              Show\n",
       "Scholarship       \n",
       "0            80.20\n",
       "1            76.26"
      ]
     },
     "execution_count": 18,
     "metadata": {},
     "output_type": "execute_result"
    }
   ],
   "source": [
    "# The relationship between Show and scholaship\n",
    "scholar_impact = pd.pivot_table(data = df, index = \"Scholarship\", values = \"Show\")\n",
    "round(scholar_impact * 100, 2) "
   ]
  },
  {
   "cell_type": "code",
   "execution_count": 19,
   "id": "87f98288-0f6a-4b6d-b379-b8eb0937bdcc",
   "metadata": {},
   "outputs": [
    {
     "data": {
      "image/png": "[encoded data removed]",
      "text/plain": [
       "<Figure size 800x400 with 1 Axes>"
      ]
     },
     "metadata": {},
     "output_type": "display_data"
    }
   ],
   "source": [
    "#graph the result\n",
    "plt.figure(figsize = (8,4), dpi = 100)\n",
    "sns.barplot(x=df.Scholarship, y=df.Show)\n",
    "plt.show()\n"
   ]
  },
  {
   "cell_type": "code",
   "execution_count": 20,
   "id": "71a6cc61-b178-4e86-ad67-33ab3e9b70fd",
   "metadata": {},
   "outputs": [
    {
     "name": "stderr",
     "output_type": "stream",
     "text": [
      "C:\\Users\\lkaur\\AppData\\Local\\Temp\\ipykernel_16508\\1671637494.py:2: FutureWarning: The default value of observed=False is deprecated and will change to observed=True in a future version of pandas. Specify observed=False to silence this warning and retain the current behavior\n",
      "  scholar_age_impact = pd.pivot_table(data = df, index = [\"Scholarship\", \"Age_bins\"], values = \"Show\")\n"
     ]
    },
    {
     "data": {
      "text/html": [
       "<div>\n",
       "<style scoped>\n",
       "    .dataframe tbody tr th:only-of-type {\n",
       "        vertical-align: middle;\n",
       "    }\n",
       "\n",
       "    .dataframe tbody tr th {\n",
       "        vertical-align: top;\n",
       "    }\n",
       "\n",
       "    .dataframe thead th {\n",
       "        text-align: right;\n",
       "    }\n",
       "</style>\n",
       "<table border=\"1\" class=\"dataframe\">\n",
       "  <thead>\n",
       "    <tr style=\"text-align: right;\">\n",
       "      <th></th>\n",
       "      <th></th>\n",
       "      <th>Show</th>\n",
       "    </tr>\n",
       "    <tr>\n",
       "      <th>Scholarship</th>\n",
       "      <th>Age_bins</th>\n",
       "      <th></th>\n",
       "    </tr>\n",
       "  </thead>\n",
       "  <tbody>\n",
       "    <tr>\n",
       "      <th rowspan=\"5\" valign=\"top\">0</th>\n",
       "      <th>0 - 12</th>\n",
       "      <td>79.39</td>\n",
       "    </tr>\n",
       "    <tr>\n",
       "      <th>13 - 29</th>\n",
       "      <td>75.38</td>\n",
       "    </tr>\n",
       "    <tr>\n",
       "      <th>30 - 44</th>\n",
       "      <td>79.06</td>\n",
       "    </tr>\n",
       "    <tr>\n",
       "      <th>45 - 58</th>\n",
       "      <td>82.32</td>\n",
       "    </tr>\n",
       "    <tr>\n",
       "      <th>59 - 115</th>\n",
       "      <td>84.71</td>\n",
       "    </tr>\n",
       "    <tr>\n",
       "      <th rowspan=\"5\" valign=\"top\">1</th>\n",
       "      <th>0 - 12</th>\n",
       "      <td>77.32</td>\n",
       "    </tr>\n",
       "    <tr>\n",
       "      <th>13 - 29</th>\n",
       "      <td>72.21</td>\n",
       "    </tr>\n",
       "    <tr>\n",
       "      <th>30 - 44</th>\n",
       "      <td>76.32</td>\n",
       "    </tr>\n",
       "    <tr>\n",
       "      <th>45 - 58</th>\n",
       "      <td>79.36</td>\n",
       "    </tr>\n",
       "    <tr>\n",
       "      <th>59 - 115</th>\n",
       "      <td>84.12</td>\n",
       "    </tr>\n",
       "  </tbody>\n",
       "</table>\n",
       "</div>"
      ],
      "text/plain": [
       "                       Show\n",
       "Scholarship Age_bins       \n",
       "0           0 - 12    79.39\n",
       "            13 - 29   75.38\n",
       "            30 - 44   79.06\n",
       "            45 - 58   82.32\n",
       "            59 - 115  84.71\n",
       "1           0 - 12    77.32\n",
       "            13 - 29   72.21\n",
       "            30 - 44   76.32\n",
       "            45 - 58   79.36\n",
       "            59 - 115  84.12"
      ]
     },
     "execution_count": 20,
     "metadata": {},
     "output_type": "execute_result"
    }
   ],
   "source": [
    "# Does Scholarship+Age play a role in show up?\n",
    "scholar_age_impact = pd.pivot_table(data = df, index = [\"Scholarship\", \"Age_bins\"], values = \"Show\")\n",
    "round(scholar_age_impact * 100, 2)"
   ]
  },
  {
   "cell_type": "code",
   "execution_count": 21,
   "id": "47abe489-7c39-4f37-ae7f-088f8788f84b",
   "metadata": {},
   "outputs": [
    {
     "data": {
      "text/html": [
       "<div>\n",
       "<style scoped>\n",
       "    .dataframe tbody tr th:only-of-type {\n",
       "        vertical-align: middle;\n",
       "    }\n",
       "\n",
       "    .dataframe tbody tr th {\n",
       "        vertical-align: top;\n",
       "    }\n",
       "\n",
       "    .dataframe thead th {\n",
       "        text-align: right;\n",
       "    }\n",
       "</style>\n",
       "<table border=\"1\" class=\"dataframe\">\n",
       "  <thead>\n",
       "    <tr style=\"text-align: right;\">\n",
       "      <th></th>\n",
       "      <th></th>\n",
       "      <th>Show</th>\n",
       "    </tr>\n",
       "    <tr>\n",
       "      <th>Scholarship</th>\n",
       "      <th>Hipertension</th>\n",
       "      <th></th>\n",
       "    </tr>\n",
       "  </thead>\n",
       "  <tbody>\n",
       "    <tr>\n",
       "      <th rowspan=\"2\" valign=\"top\">0</th>\n",
       "      <th>0</th>\n",
       "      <td>79.51</td>\n",
       "    </tr>\n",
       "    <tr>\n",
       "      <th>1</th>\n",
       "      <td>82.93</td>\n",
       "    </tr>\n",
       "    <tr>\n",
       "      <th rowspan=\"2\" valign=\"top\">1</th>\n",
       "      <th>0</th>\n",
       "      <td>75.43</td>\n",
       "    </tr>\n",
       "    <tr>\n",
       "      <th>1</th>\n",
       "      <td>80.25</td>\n",
       "    </tr>\n",
       "  </tbody>\n",
       "</table>\n",
       "</div>"
      ],
      "text/plain": [
       "                           Show\n",
       "Scholarship Hipertension       \n",
       "0           0             79.51\n",
       "            1             82.93\n",
       "1           0             75.43\n",
       "            1             80.25"
      ]
     },
     "execution_count": 21,
     "metadata": {},
     "output_type": "execute_result"
    }
   ],
   "source": [
    "# Does Scholarship+Hipertension play a role in show up?\n",
    "scholar_hiper_impact = pd.pivot_table(data = df, index = [\"Scholarship\", \"Hipertension\"], values = \"Show\")\n",
    "round(scholar_hiper_impact * 100, 2) "
   ]
  },
  {
   "cell_type": "code",
   "execution_count": 22,
   "id": "c0e17e3a-5619-4d18-a607-f009b89025a2",
   "metadata": {},
   "outputs": [
    {
     "data": {
      "text/html": [
       "<div>\n",
       "<style scoped>\n",
       "    .dataframe tbody tr th:only-of-type {\n",
       "        vertical-align: middle;\n",
       "    }\n",
       "\n",
       "    .dataframe tbody tr th {\n",
       "        vertical-align: top;\n",
       "    }\n",
       "\n",
       "    .dataframe thead th {\n",
       "        text-align: right;\n",
       "    }\n",
       "</style>\n",
       "<table border=\"1\" class=\"dataframe\">\n",
       "  <thead>\n",
       "    <tr style=\"text-align: right;\">\n",
       "      <th></th>\n",
       "      <th></th>\n",
       "      <th>Show</th>\n",
       "    </tr>\n",
       "    <tr>\n",
       "      <th>Scholarship</th>\n",
       "      <th>Diabetes</th>\n",
       "      <th></th>\n",
       "    </tr>\n",
       "  </thead>\n",
       "  <tbody>\n",
       "    <tr>\n",
       "      <th rowspan=\"2\" valign=\"top\">0</th>\n",
       "      <th>0</th>\n",
       "      <td>80.03</td>\n",
       "    </tr>\n",
       "    <tr>\n",
       "      <th>1</th>\n",
       "      <td>82.28</td>\n",
       "    </tr>\n",
       "    <tr>\n",
       "      <th rowspan=\"2\" valign=\"top\">1</th>\n",
       "      <th>0</th>\n",
       "      <td>76.15</td>\n",
       "    </tr>\n",
       "    <tr>\n",
       "      <th>1</th>\n",
       "      <td>78.38</td>\n",
       "    </tr>\n",
       "  </tbody>\n",
       "</table>\n",
       "</div>"
      ],
      "text/plain": [
       "                       Show\n",
       "Scholarship Diabetes       \n",
       "0           0         80.03\n",
       "            1         82.28\n",
       "1           0         76.15\n",
       "            1         78.38"
      ]
     },
     "execution_count": 22,
     "metadata": {},
     "output_type": "execute_result"
    }
   ],
   "source": [
    "# Does Scholarship+Diabetes play a role in show up?\n",
    "scholar_diab_impact = pd.pivot_table(data = df, index = [\"Scholarship\", \"Diabetes\"], values = \"Show\")\n",
    "round(scholar_diab_impact * 100, 2) "
   ]
  },
  {
   "cell_type": "code",
   "execution_count": 23,
   "id": "a24d04fd-0de9-47a2-ada0-66d1e09cbbbd",
   "metadata": {},
   "outputs": [
    {
     "data": {
      "text/html": [
       "<div>\n",
       "<style scoped>\n",
       "    .dataframe tbody tr th:only-of-type {\n",
       "        vertical-align: middle;\n",
       "    }\n",
       "\n",
       "    .dataframe tbody tr th {\n",
       "        vertical-align: top;\n",
       "    }\n",
       "\n",
       "    .dataframe thead th {\n",
       "        text-align: right;\n",
       "    }\n",
       "</style>\n",
       "<table border=\"1\" class=\"dataframe\">\n",
       "  <thead>\n",
       "    <tr style=\"text-align: right;\">\n",
       "      <th></th>\n",
       "      <th></th>\n",
       "      <th>Show</th>\n",
       "    </tr>\n",
       "    <tr>\n",
       "      <th>Scholarship</th>\n",
       "      <th>Alcoholism</th>\n",
       "      <th></th>\n",
       "    </tr>\n",
       "  </thead>\n",
       "  <tbody>\n",
       "    <tr>\n",
       "      <th rowspan=\"2\" valign=\"top\">0</th>\n",
       "      <th>0</th>\n",
       "      <td>80.16</td>\n",
       "    </tr>\n",
       "    <tr>\n",
       "      <th>1</th>\n",
       "      <td>81.36</td>\n",
       "    </tr>\n",
       "    <tr>\n",
       "      <th rowspan=\"2\" valign=\"top\">1</th>\n",
       "      <th>0</th>\n",
       "      <td>76.49</td>\n",
       "    </tr>\n",
       "    <tr>\n",
       "      <th>1</th>\n",
       "      <td>71.78</td>\n",
       "    </tr>\n",
       "  </tbody>\n",
       "</table>\n",
       "</div>"
      ],
      "text/plain": [
       "                         Show\n",
       "Scholarship Alcoholism       \n",
       "0           0           80.16\n",
       "            1           81.36\n",
       "1           0           76.49\n",
       "            1           71.78"
      ]
     },
     "execution_count": 23,
     "metadata": {},
     "output_type": "execute_result"
    }
   ],
   "source": [
    "# Does Scholarship+Alcoholism play a role in show up?\n",
    "scholar_alco_impact = pd.pivot_table(data = df, index = [\"Scholarship\", \"Alcoholism\"], values = \"Show\")\n",
    "round(scholar_alco_impact * 100, 2)"
   ]
  },
  {
   "cell_type": "markdown",
   "id": "1ada4410-939e-4a65-acec-aeab183e6d0a",
   "metadata": {},
   "source": [
    "**Overall Summary:**\n",
    "- Receiving a scholarship generally correlates with lower show-up rates across various factors, including age, hypertension, diabetes, and alcoholism.\n",
    "- Age: Older patients (especially those 59 years and above) consistently show higher rates of attending their appointments, regardless of scholarship status.\n",
    "- Hypertension and diabetes are associated with higher show-up rates, suggesting that patients with these conditions are more likely to prioritize their health appointments.\n",
    "- Alcoholism shows mixed effects; it increases show-up rates for patients without a scholarship but significantly reduces it for those with a scholarship. "
   ]
  },
  {
   "cell_type": "markdown",
   "id": "6ba68c07-cc93-4eeb-87d0-b161e7c8ab54",
   "metadata": {
    "jp-MarkdownHeadingCollapsed": true
   },
   "source": [
    "### Deep dive into role of Wait Days influencing Patient Show-up"
   ]
  },
  {
   "cell_type": "code",
   "execution_count": 30,
   "id": "4a1687a7-ea83-4d38-bb0c-972c71010da4",
   "metadata": {},
   "outputs": [
    {
     "name": "stderr",
     "output_type": "stream",
     "text": [
      "C:\\Users\\lkaur\\AppData\\Local\\Temp\\ipykernel_16508\\2207558636.py:2: FutureWarning: The default value of observed=False is deprecated and will change to observed=True in a future version of pandas. Specify observed=False to silence this warning and retain the current behavior\n",
      "  wait_impact = pd.pivot_table(data = df, index = \"Wait_days\", values = \"Show\")\n"
     ]
    },
    {
     "data": {
      "text/html": [
       "<div>\n",
       "<style scoped>\n",
       "    .dataframe tbody tr th:only-of-type {\n",
       "        vertical-align: middle;\n",
       "    }\n",
       "\n",
       "    .dataframe tbody tr th {\n",
       "        vertical-align: top;\n",
       "    }\n",
       "\n",
       "    .dataframe thead th {\n",
       "        text-align: right;\n",
       "    }\n",
       "</style>\n",
       "<table border=\"1\" class=\"dataframe\">\n",
       "  <thead>\n",
       "    <tr style=\"text-align: right;\">\n",
       "      <th></th>\n",
       "      <th>Show</th>\n",
       "    </tr>\n",
       "    <tr>\n",
       "      <th>Wait_days</th>\n",
       "      <th></th>\n",
       "    </tr>\n",
       "  </thead>\n",
       "  <tbody>\n",
       "    <tr>\n",
       "      <th>0-17</th>\n",
       "      <td>83.32</td>\n",
       "    </tr>\n",
       "    <tr>\n",
       "      <th>18-34</th>\n",
       "      <td>66.86</td>\n",
       "    </tr>\n",
       "    <tr>\n",
       "      <th>35-53</th>\n",
       "      <td>66.41</td>\n",
       "    </tr>\n",
       "    <tr>\n",
       "      <th>54-71</th>\n",
       "      <td>69.52</td>\n",
       "    </tr>\n",
       "    <tr>\n",
       "      <th>72-89</th>\n",
       "      <td>68.64</td>\n",
       "    </tr>\n",
       "    <tr>\n",
       "      <th>90-106</th>\n",
       "      <td>75.78</td>\n",
       "    </tr>\n",
       "    <tr>\n",
       "      <th>107-124</th>\n",
       "      <td>94.12</td>\n",
       "    </tr>\n",
       "    <tr>\n",
       "      <th>125-142</th>\n",
       "      <td>56.52</td>\n",
       "    </tr>\n",
       "    <tr>\n",
       "      <th>143-160</th>\n",
       "      <td>33.33</td>\n",
       "    </tr>\n",
       "    <tr>\n",
       "      <th>161-179</th>\n",
       "      <td>75.56</td>\n",
       "    </tr>\n",
       "  </tbody>\n",
       "</table>\n",
       "</div>"
      ],
      "text/plain": [
       "            Show\n",
       "Wait_days       \n",
       "0-17       83.32\n",
       "18-34      66.86\n",
       "35-53      66.41\n",
       "54-71      69.52\n",
       "72-89      68.64\n",
       "90-106     75.78\n",
       "107-124    94.12\n",
       "125-142    56.52\n",
       "143-160    33.33\n",
       "161-179    75.56"
      ]
     },
     "execution_count": 30,
     "metadata": {},
     "output_type": "execute_result"
    }
   ],
   "source": [
    "# The relationship between Show and scholaship\n",
    "wait_impact = pd.pivot_table(data = df, index = \"Wait_days\", values = \"Show\")\n",
    "round(wait_impact * 100, 2) "
   ]
  },
  {
   "cell_type": "code",
   "execution_count": 31,
   "id": "ca8f7534-5ae7-48b9-ac71-fda8f6214fb2",
   "metadata": {},
   "outputs": [
    {
     "data": {
      "image/png": "[encoded data removed]",
      "text/plain": [
       "<Figure size 800x400 with 1 Axes>"
      ]
     },
     "metadata": {},
     "output_type": "display_data"
    }
   ],
   "source": [
    "wait_days = df.Wait_days.value_counts(normalize = True).sort_values(ascending = False)[:30]\n",
    "plt.figure(figsize = (8,4), dpi = 100)\n",
    "sns.barplot(x = wait_days.index, y = wait_days.values)\n",
    "plt.xticks(rotation = 90)\n",
    "plt.show()"
   ]
  },
  {
   "cell_type": "code",
   "execution_count": 32,
   "id": "400f8e06-c3d7-4e5c-99f1-9cd6f0b9cb0a",
   "metadata": {
    "scrolled": true
   },
   "outputs": [
    {
     "data": {
      "image/png": "[encoded data removed]",
      "text/plain": [
       "<Figure size 800x400 with 1 Axes>"
      ]
     },
     "metadata": {},
     "output_type": "display_data"
    }
   ],
   "source": [
    "#graph the result\n",
    "plt.figure(figsize = (8,4), dpi = 100)\n",
    "sns.barplot(x=df.Wait_days, y=df.Show)\n",
    "plt.show()"
   ]
  },
  {
   "cell_type": "markdown",
   "id": "10a70bd4-528c-41fe-984b-3c173035dd2b",
   "metadata": {},
   "source": [
    "**Findings**\n",
    "- Keeping the waiting period under 17 days seems ideal for ensuring high patient attendance.\n",
    "- There is a noticeable decline in attendance starting around 18 days, with a significant drop beyond 125 days, except for a unique spike at 107-124 days (COULD BE OUTLIERS)\n",
    "- Patient Engagement: The variability in show-up rates at different waiting periods emphasizes wait times not affecting show ups"
   ]
  },
  {
   "cell_type": "markdown",
   "id": "45cea168-faf8-410d-aaca-83eb3303b84f",
   "metadata": {
    "jp-MarkdownHeadingCollapsed": true
   },
   "source": [
    "### Deep dive into role of Weekday/Weekend influencing Patient Show-up"
   ]
  },
  {
   "cell_type": "code",
   "execution_count": 38,
   "id": "5472a450-1181-4de6-b665-a4f8e9736f08",
   "metadata": {
    "scrolled": true
   },
   "outputs": [
    {
     "data": {
      "text/html": [
       "<div>\n",
       "<style scoped>\n",
       "    .dataframe tbody tr th:only-of-type {\n",
       "        vertical-align: middle;\n",
       "    }\n",
       "\n",
       "    .dataframe tbody tr th {\n",
       "        vertical-align: top;\n",
       "    }\n",
       "\n",
       "    .dataframe thead th {\n",
       "        text-align: right;\n",
       "    }\n",
       "</style>\n",
       "<table border=\"1\" class=\"dataframe\">\n",
       "  <thead>\n",
       "    <tr style=\"text-align: right;\">\n",
       "      <th></th>\n",
       "      <th>Show</th>\n",
       "    </tr>\n",
       "    <tr>\n",
       "      <th>Weekday</th>\n",
       "      <th></th>\n",
       "    </tr>\n",
       "  </thead>\n",
       "  <tbody>\n",
       "    <tr>\n",
       "      <th>0</th>\n",
       "      <td>76.92</td>\n",
       "    </tr>\n",
       "    <tr>\n",
       "      <th>1</th>\n",
       "      <td>79.81</td>\n",
       "    </tr>\n",
       "  </tbody>\n",
       "</table>\n",
       "</div>"
      ],
      "text/plain": [
       "          Show\n",
       "Weekday       \n",
       "0        76.92\n",
       "1        79.81"
      ]
     },
     "execution_count": 38,
     "metadata": {},
     "output_type": "execute_result"
    }
   ],
   "source": [
    "# The relationship between Show and weekday\n",
    "wait_impact = pd.pivot_table(data = df, index = \"Weekday\", values = \"Show\")\n",
    "round(wait_impact * 100, 2) "
   ]
  },
  {
   "cell_type": "code",
   "execution_count": 39,
   "id": "de565320-18ab-41d2-906f-8f1128006758",
   "metadata": {},
   "outputs": [
    {
     "data": {
      "image/png": "[encoded data removed]",
      "text/plain": [
       "<Figure size 800x400 with 1 Axes>"
      ]
     },
     "metadata": {},
     "output_type": "display_data"
    }
   ],
   "source": [
    "#graph the result\n",
    "plt.figure(figsize = (8,4), dpi = 100)\n",
    "sns.barplot(x=df.Weekday, y=df.Show)\n",
    "plt.show()"
   ]
  },
  {
   "cell_type": "code",
   "execution_count": 41,
   "id": "cc381769-cc60-4561-a78c-809e273849fb",
   "metadata": {
    "scrolled": true
   },
   "outputs": [
    {
     "data": {
      "text/html": [
       "<div>\n",
       "<style scoped>\n",
       "    .dataframe tbody tr th:only-of-type {\n",
       "        vertical-align: middle;\n",
       "    }\n",
       "\n",
       "    .dataframe tbody tr th {\n",
       "        vertical-align: top;\n",
       "    }\n",
       "\n",
       "    .dataframe thead th {\n",
       "        text-align: right;\n",
       "    }\n",
       "</style>\n",
       "<table border=\"1\" class=\"dataframe\">\n",
       "  <thead>\n",
       "    <tr style=\"text-align: right;\">\n",
       "      <th></th>\n",
       "      <th></th>\n",
       "      <th>Show</th>\n",
       "    </tr>\n",
       "    <tr>\n",
       "      <th>Weekday</th>\n",
       "      <th>Scholarship</th>\n",
       "      <th></th>\n",
       "    </tr>\n",
       "  </thead>\n",
       "  <tbody>\n",
       "    <tr>\n",
       "      <th rowspan=\"2\" valign=\"top\">0</th>\n",
       "      <th>0</th>\n",
       "      <td>75.00</td>\n",
       "    </tr>\n",
       "    <tr>\n",
       "      <th>1</th>\n",
       "      <td>100.00</td>\n",
       "    </tr>\n",
       "    <tr>\n",
       "      <th rowspan=\"2\" valign=\"top\">1</th>\n",
       "      <th>0</th>\n",
       "      <td>80.20</td>\n",
       "    </tr>\n",
       "    <tr>\n",
       "      <th>1</th>\n",
       "      <td>76.26</td>\n",
       "    </tr>\n",
       "  </tbody>\n",
       "</table>\n",
       "</div>"
      ],
      "text/plain": [
       "                       Show\n",
       "Weekday Scholarship        \n",
       "0       0             75.00\n",
       "        1            100.00\n",
       "1       0             80.20\n",
       "        1             76.26"
      ]
     },
     "execution_count": 41,
     "metadata": {},
     "output_type": "execute_result"
    }
   ],
   "source": [
    "#Weekday Scholar Impact\n",
    "scholar_week_impact = pd.pivot_table(data = df, index = [\"Weekday\", \"Scholarship\"], values = \"Show\")\n",
    "round(scholar_week_impact * 100, 2)"
   ]
  },
  {
   "cell_type": "code",
   "execution_count": 37,
   "id": "d93bd895-6656-4912-8e31-ada45971401e",
   "metadata": {},
   "outputs": [
    {
     "data": {
      "text/plain": [
       "Weekday\n",
       "1    110482\n",
       "0        39\n",
       "Name: count, dtype: int64"
      ]
     },
     "execution_count": 37,
     "metadata": {},
     "output_type": "execute_result"
    }
   ],
   "source": [
    "df['Weekday'].value_counts()"
   ]
  },
  {
   "cell_type": "code",
   "execution_count": 42,
   "id": "2ce4aa8e-56cb-44a3-8536-081882cde475",
   "metadata": {},
   "outputs": [
    {
     "data": {
      "text/plain": [
       "Weekday\n",
       "1    100.0%\n",
       "0      0.0%\n",
       "Name: proportion, dtype: object"
      ]
     },
     "execution_count": 42,
     "metadata": {},
     "output_type": "execute_result"
    }
   ],
   "source": [
    "df['Weekday'].value_counts(normalize=True).mul(100).round(1).astype(str) + '%'\n"
   ]
  },
  {
   "cell_type": "markdown",
   "id": "aaa52e59-8076-4565-892a-73581932bff9",
   "metadata": {},
   "source": [
    "**Findings**\n",
    "- The majority of appointments are scheduled on weekdays, where the show-up rates are generally stable regardless of scholarship status, though a slight decrease is observed with scholarships.\n",
    "- The data shows a perfect show-up rate for scholarship patients on weekends, but the small number of weekend appointments means that further analysis is needed before drawing definitive conclusions. I am assuming that there would be some emergency then only they would be showing up. Scholarships might play a significant role in motivating attendance, especially on weekends."
   ]
  },
  {
   "cell_type": "markdown",
   "id": "b948d968-7597-48ae-975a-b5474d717266",
   "metadata": {},
   "source": [
    "## Final Comments and Recommendations\n",
    "Based on the above findings the hospital can do the following for increasing show-up rates:\n",
    "- The hospital should focus on understanding the personal circumstances and external factors affecting different patient groups since no stromg correlation was found between show ups and any of the other features. \n",
    "- Given the unexpected negative impact of SMS reminders, the hospital could re-evaluate the timing, frequency, and content of these reminders. \n",
    "- Special attention should be given to older patients and those with chronic conditions like diabetes and hypertension, who already show higher attendance rates. GIve them easy access to appointments.  \n",
    "- The hospital should assess the effectiveness of its scholarship program. Offering additional support or resources to scholarship recipients might improve their show-up rates, particularly on weekdays.\n",
    "- To maximize attendance, the hospital should aim to schedule appointments within 17 days of booking. \n",
    "- The hospital could consider offering more weekend appointments, particularly for scholarship recipients, given the perfect show-up rate observed. "
   ]
  },
  {
   "cell_type": "code",
   "execution_count": null,
   "id": "9517d67c-af18-44b0-8ff1-4a9e4dbad242",
   "metadata": {},
   "outputs": [],
   "source": []
  }
 ],
 "metadata": {
  "kernelspec": {
   "display_name": "Python 3 (ipykernel)",
   "language": "python",
   "name": "python3"
  },
  "language_info": {
   "codemirror_mode": {
    "name": "ipython",
    "version": 3
   },
   "file_extension": ".py",
   "mimetype": "text/x-python",
   "name": "python",
   "nbconvert_exporter": "python",
   "pygments_lexer": "ipython3",
   "version": "3.12.1"
  }
 },
 "nbformat": 4,
 "nbformat_minor": 5
}
